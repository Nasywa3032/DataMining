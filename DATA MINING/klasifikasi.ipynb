{
 "cells": [
  {
   "cell_type": "code",
   "execution_count": 6,
   "id": "d6b619d4",
   "metadata": {},
   "outputs": [],
   "source": [
    "import pandas as pd\n",
    "import numpy as np"
   ]
  },
  {
   "cell_type": "code",
   "execution_count": 7,
   "id": "13f54570",
   "metadata": {},
   "outputs": [
    {
     "data": {
      "text/plain": [
       "<bound method NDFrame.head of       Row ID        Order ID Order Date  Year     Month  Day       Ship Mode  \\\n",
       "0          1  CA-2016-152156 2016-11-08  2016  November    8    Second Class   \n",
       "1          2  CA-2016-152156 2016-11-08  2016  November    8    Second Class   \n",
       "2          3  CA-2016-138688 2016-06-12  2016      Juni   12    Second Class   \n",
       "3          4  US-2015-108966 2015-10-11  2015   Oktober   11  Standard Class   \n",
       "4          5  US-2015-108966 2015-10-11  2015   Oktober   11  Standard Class   \n",
       "...      ...             ...        ...   ...       ...  ...             ...   \n",
       "9989    9990  CA-2014-110422 2014-01-21  2014   Januari   21    Second Class   \n",
       "9990    9991  CA-2017-121258 2017-02-26  2017  Februari   26  Standard Class   \n",
       "9991    9992  CA-2017-121258 2017-02-26  2017  Februari   26  Standard Class   \n",
       "9992    9993  CA-2017-121258 2017-02-26  2017  Februari   26  Standard Class   \n",
       "9993    9994  CA-2017-119914 2017-05-04  2017       Mei    4    Second Class   \n",
       "\n",
       "     Customer ID     Customer Name    Segment  ... Postal Code Region  \\\n",
       "0       CG-12520       Claire Gute   Consumer  ...       42420  South   \n",
       "1       CG-12520       Claire Gute   Consumer  ...       42420  South   \n",
       "2       DV-13045   Darrin Van Huff  Corporate  ...       90036   West   \n",
       "3       SO-20335    Sean O'Donnell   Consumer  ...       33311  South   \n",
       "4       SO-20335    Sean O'Donnell   Consumer  ...       33311  South   \n",
       "...          ...               ...        ...  ...         ...    ...   \n",
       "9989    TB-21400  Tom Boeckenhauer   Consumer  ...       33180  South   \n",
       "9990    DB-13060       Dave Brooks   Consumer  ...       92627   West   \n",
       "9991    DB-13060       Dave Brooks   Consumer  ...       92627   West   \n",
       "9992    DB-13060       Dave Brooks   Consumer  ...       92627   West   \n",
       "9993    CC-12220      Chris Cortes   Consumer  ...       92683   West   \n",
       "\n",
       "           Product ID         Category Sub-Category  \\\n",
       "0     FUR-BO-10001798        Furniture    Bookcases   \n",
       "1     FUR-CH-10000454        Furniture       Chairs   \n",
       "2     OFF-LA-10000240  Office Supplies       Labels   \n",
       "3     FUR-TA-10000577        Furniture       Tables   \n",
       "4     OFF-ST-10000760  Office Supplies      Storage   \n",
       "...               ...              ...          ...   \n",
       "9989  FUR-FU-10001889        Furniture  Furnishings   \n",
       "9990  FUR-FU-10000747        Furniture  Furnishings   \n",
       "9991  TEC-PH-10003645       Technology       Phones   \n",
       "9992  OFF-PA-10004041  Office Supplies        Paper   \n",
       "9993  OFF-AP-10002684  Office Supplies   Appliances   \n",
       "\n",
       "                                           Product Name     Sales Quantity  \\\n",
       "0                     Bush Somerset Collection Bookcase  261.9600        2   \n",
       "1     Hon Deluxe Fabric Upholstered Stacking Chairs,...  731.9400        3   \n",
       "2     Self-Adhesive Address Labels for Typewriters b...   14.6200        2   \n",
       "3         Bretford CR4500 Series Slim Rectangular Table  957.5775        5   \n",
       "4                        Eldon Fold 'N Roll Cart System   22.3680        2   \n",
       "...                                                 ...       ...      ...   \n",
       "9989                             Ultra Door Pull Handle   25.2480        3   \n",
       "9990  Tenex B1-RE Series Chair Mats for Low Pile Car...   91.9600        2   \n",
       "9991                              Aastra 57i VoIP phone  258.5760        2   \n",
       "9992  It's Hot Message Books with Stickers, 2 3/4\" x 5\"   29.6000        4   \n",
       "9993  Acco 7-Outlet Masterpiece Power Center, Wihtou...  243.1600        2   \n",
       "\n",
       "     Discount    Profit  \n",
       "0        0.00   41.9136  \n",
       "1        0.00  219.5820  \n",
       "2        0.00    6.8714  \n",
       "3        0.45 -383.0310  \n",
       "4        0.20    2.5164  \n",
       "...       ...       ...  \n",
       "9989     0.20    4.1028  \n",
       "9990     0.00   15.6332  \n",
       "9991     0.20   19.3932  \n",
       "9992     0.00   13.3200  \n",
       "9993     0.00   72.9480  \n",
       "\n",
       "[9994 rows x 23 columns]>"
      ]
     },
     "execution_count": 7,
     "metadata": {},
     "output_type": "execute_result"
    }
   ],
   "source": [
    "df = pd.read_excel(\"Datasets Superstore.xlsx\")\n",
    "df.head"
   ]
  },
  {
   "cell_type": "code",
   "execution_count": 8,
   "id": "d3e5a9cb",
   "metadata": {},
   "outputs": [
    {
     "name": "stdout",
     "output_type": "stream",
     "text": [
      "<class 'pandas.core.frame.DataFrame'>\n",
      "RangeIndex: 9994 entries, 0 to 9993\n",
      "Data columns (total 23 columns):\n",
      " #   Column         Non-Null Count  Dtype         \n",
      "---  ------         --------------  -----         \n",
      " 0   Row ID         9994 non-null   int64         \n",
      " 1   Order ID       9994 non-null   object        \n",
      " 2   Order Date     9994 non-null   datetime64[ns]\n",
      " 3   Year           9994 non-null   int64         \n",
      " 4   Month          9994 non-null   object        \n",
      " 5   Day            9994 non-null   int64         \n",
      " 6   Ship Mode      9994 non-null   object        \n",
      " 7   Customer ID    9994 non-null   object        \n",
      " 8   Customer Name  9994 non-null   object        \n",
      " 9   Segment        9994 non-null   object        \n",
      " 10  Country        9994 non-null   object        \n",
      " 11  City           9994 non-null   object        \n",
      " 12  State          9994 non-null   object        \n",
      " 13  Postal Code    9994 non-null   int64         \n",
      " 14  Region         9994 non-null   object        \n",
      " 15  Product ID     9994 non-null   object        \n",
      " 16  Category       9994 non-null   object        \n",
      " 17  Sub-Category   9994 non-null   object        \n",
      " 18  Product Name   9994 non-null   object        \n",
      " 19  Sales          9994 non-null   float64       \n",
      " 20  Quantity       9994 non-null   int64         \n",
      " 21  Discount       9994 non-null   float64       \n",
      " 22  Profit         9994 non-null   float64       \n",
      "dtypes: datetime64[ns](1), float64(3), int64(5), object(14)\n",
      "memory usage: 1.8+ MB\n"
     ]
    }
   ],
   "source": [
    "df.info()"
   ]
  },
  {
   "cell_type": "markdown",
   "id": "ef767b53",
   "metadata": {},
   "source": [
    "Langkah 2 : Eksplorasi Data"
   ]
  },
  {
   "cell_type": "code",
   "execution_count": 9,
   "id": "3e3d3b8b",
   "metadata": {},
   "outputs": [
    {
     "name": "stdout",
     "output_type": "stream",
     "text": [
      "\n",
      "Missing values:\n",
      " <bound method DataFrame.sum of       Row ID  Order ID  Order Date   Year  Month    Day  Ship Mode  \\\n",
      "0      False     False       False  False  False  False      False   \n",
      "1      False     False       False  False  False  False      False   \n",
      "2      False     False       False  False  False  False      False   \n",
      "3      False     False       False  False  False  False      False   \n",
      "4      False     False       False  False  False  False      False   \n",
      "...      ...       ...         ...    ...    ...    ...        ...   \n",
      "9989   False     False       False  False  False  False      False   \n",
      "9990   False     False       False  False  False  False      False   \n",
      "9991   False     False       False  False  False  False      False   \n",
      "9992   False     False       False  False  False  False      False   \n",
      "9993   False     False       False  False  False  False      False   \n",
      "\n",
      "      Customer ID  Customer Name  Segment  ...  Postal Code  Region  \\\n",
      "0           False          False    False  ...        False   False   \n",
      "1           False          False    False  ...        False   False   \n",
      "2           False          False    False  ...        False   False   \n",
      "3           False          False    False  ...        False   False   \n",
      "4           False          False    False  ...        False   False   \n",
      "...           ...            ...      ...  ...          ...     ...   \n",
      "9989        False          False    False  ...        False   False   \n",
      "9990        False          False    False  ...        False   False   \n",
      "9991        False          False    False  ...        False   False   \n",
      "9992        False          False    False  ...        False   False   \n",
      "9993        False          False    False  ...        False   False   \n",
      "\n",
      "      Product ID  Category  Sub-Category  Product Name  Sales  Quantity  \\\n",
      "0          False     False         False         False  False     False   \n",
      "1          False     False         False         False  False     False   \n",
      "2          False     False         False         False  False     False   \n",
      "3          False     False         False         False  False     False   \n",
      "4          False     False         False         False  False     False   \n",
      "...          ...       ...           ...           ...    ...       ...   \n",
      "9989       False     False         False         False  False     False   \n",
      "9990       False     False         False         False  False     False   \n",
      "9991       False     False         False         False  False     False   \n",
      "9992       False     False         False         False  False     False   \n",
      "9993       False     False         False         False  False     False   \n",
      "\n",
      "      Discount  Profit  \n",
      "0        False   False  \n",
      "1        False   False  \n",
      "2        False   False  \n",
      "3        False   False  \n",
      "4        False   False  \n",
      "...        ...     ...  \n",
      "9989     False   False  \n",
      "9990     False   False  \n",
      "9991     False   False  \n",
      "9992     False   False  \n",
      "9993     False   False  \n",
      "\n",
      "[9994 rows x 23 columns]>\n"
     ]
    }
   ],
   "source": [
    "print(\"\\nMissing values:\\n\" , df.isnull().sum)\n"
   ]
  },
  {
   "cell_type": "code",
   "execution_count": 10,
   "id": "06f27c40",
   "metadata": {},
   "outputs": [
    {
     "data": {
      "text/plain": [
       "Index(['Row ID', 'Order ID', 'Order Date', 'Year', 'Month', 'Day', 'Ship Mode',\n",
       "       'Customer ID', 'Customer Name', 'Segment', 'Country', 'City', 'State',\n",
       "       'Postal Code', 'Region', 'Product ID', 'Category', 'Sub-Category',\n",
       "       'Product Name', 'Sales', 'Quantity', 'Discount', 'Profit'],\n",
       "      dtype='object')"
      ]
     },
     "execution_count": 10,
     "metadata": {},
     "output_type": "execute_result"
    }
   ],
   "source": [
    "df.columns"
   ]
  },
  {
   "cell_type": "markdown",
   "id": "287c5048",
   "metadata": {},
   "source": [
    "Langkah 3 : Visualisasi"
   ]
  },
  {
   "cell_type": "code",
   "execution_count": 11,
   "id": "d1a3f534",
   "metadata": {},
   "outputs": [],
   "source": [
    "import seaborn as sns\n",
    "import matplotlib.pyplot as plt"
   ]
  },
  {
   "cell_type": "code",
   "execution_count": 12,
   "id": "af8321ad",
   "metadata": {},
   "outputs": [
    {
     "data": {
      "image/png": "[encoded data removed]",
      "text/plain": [
       "<Figure size 640x480 with 1 Axes>"
      ]
     },
     "metadata": {},
     "output_type": "display_data"
    }
   ],
   "source": [
    "df.groupby('Category')['Sales'].sum().plot(kind = 'bar')\n",
    "plt.ylabel('Total Sales')\n",
    "plt.show()"
   ]
  },
  {
   "cell_type": "code",
   "execution_count": 13,
   "id": "5931993a",
   "metadata": {},
   "outputs": [
    {
     "data": {
      "image/png": "[encoded data removed]",
      "text/plain": [
       "<Figure size 640x480 with 1 Axes>"
      ]
     },
     "metadata": {},
     "output_type": "display_data"
    }
   ],
   "source": [
    "sns.scatterplot(data=df, x='Discount', y='Profit')\n",
    "plt.title('Diskon vs Profit')\n",
    "plt.show()"
   ]
  },
  {
   "cell_type": "code",
   "execution_count": 14,
   "id": "8de5bd0c",
   "metadata": {},
   "outputs": [],
   "source": [
    "from sklearn.tree import DecisionTreeClassifier\n",
    "from sklearn.model_selection import train_test_split\n",
    "from sklearn.metrics import classification_report, confusion_matrix"
   ]
  },
  {
   "cell_type": "code",
   "execution_count": 15,
   "id": "fd64dadb",
   "metadata": {},
   "outputs": [],
   "source": [
    "df['Label'] = df['Profit'].apply(lambda x: 1 if x > 0 else 0)\n",
    "features = df[['Sales', 'Discount', 'Quantity']].fillna(0)\n",
    "labels = df['Label']"
   ]
  },
  {
   "cell_type": "code",
   "execution_count": 16,
   "id": "7ebcda88",
   "metadata": {},
   "outputs": [],
   "source": [
    "x_train, x_test, y_train, y_test, = train_test_split(features, labels, test_size=0.3, random_state=42)\n",
    "model = DecisionTreeClassifier()\n",
    "model.fit(x_train, y_train)\n",
    "y_pred = model.predict(x_test)"
   ]
  },
  {
   "cell_type": "code",
   "execution_count": 17,
   "id": "e4e7cafc",
   "metadata": {},
   "outputs": [
    {
     "name": "stdout",
     "output_type": "stream",
     "text": [
      "classification report :\n",
      "               precision    recall  f1-score   support\n",
      "\n",
      "           0       0.83      0.81      0.82       547\n",
      "           1       0.96      0.96      0.96      2452\n",
      "\n",
      "    accuracy                           0.93      2999\n",
      "   macro avg       0.89      0.89      0.89      2999\n",
      "weighted avg       0.93      0.93      0.93      2999\n",
      "\n",
      "Confusion Matrix:\n",
      " [[ 442  105]\n",
      " [  93 2359]]\n"
     ]
    }
   ],
   "source": [
    "print(\"classification report :\\n\", classification_report(y_test, y_pred))\n",
    "print(\"Confusion Matrix:\\n\", confusion_matrix(y_test, y_pred))"
   ]
  },
  {
   "cell_type": "code",
   "execution_count": 23,
   "id": "0141c228",
   "metadata": {},
   "outputs": [],
   "source": [
    "import matplotlib.pyplot as plt\n",
    "import seaborn as sns\n",
    "import pandas as pd\n",
    "\n",
    "#LabelEncoder: Mengubah label kategori menjadi angka\n",
    "#StandardScaler: Melakukan penskalaan fitur (standarisasi) untuk membuat data memiliki rata-rata 0 dan varians 1\n",
    "from sklearn.preprocessing import LabelEncoder, StandardScaler \n",
    "\n",
    "#train_test_split: Membagi data \n",
    "from sklearn.model_selection import train_test_split\n",
    "\n",
    "#GaussianNB: penerapan algo Naive Bayes yang mengasumsikan data berdistribusi Gaussian (normal).\n",
    "from sklearn.naive_bayes import GaussianNB\n",
    "\n",
    "#LogisticRegression: Implementasi algoritma Regresi Logistik untuk klasifikasi.\n",
    "from sklearn.linear_model import LogisticRegression\n",
    "\n",
    "#RandomForestClassifier: Implementasi algoritma Random Forest, metode ensemble untuk klasifikasi.\n",
    "from sklearn.ensemble import RandomForestClassifier\n",
    "\n",
    "#MLPClassifier: Implementasi jaringan saraf tiruan multilayer perceptron untuk klasifikasi.\n",
    "from sklearn.neural_network import MLPClassifier\n",
    "\n",
    "#mengukur kinerja  model klasifikasi\n",
    "from sklearn.metrics import (accuracy_score, precision_score, recall_score, f1_score, confusion_matrix)"
   ]
  },
  {
   "cell_type": "code",
   "execution_count": 34,
   "id": "96515398",
   "metadata": {},
   "outputs": [
    {
     "name": "stdout",
     "output_type": "stream",
     "text": [
      "Classification Report:\n",
      "               precision    recall  f1-score   support\n",
      "\n",
      "           0       0.98      0.66      0.79       547\n",
      "           1       0.93      1.00      0.96      2452\n",
      "\n",
      "    accuracy                           0.93      2999\n",
      "   macro avg       0.95      0.83      0.87      2999\n",
      "weighted avg       0.94      0.93      0.93      2999\n",
      "\n",
      "Confusion Matrix:\n",
      " [[ 360  187]\n",
      " [   9 2443]]\n"
     ]
    }
   ],
   "source": [
    "df['Label'] = df['Profit'].apply(lambda x: 1 if x > 0 else 0)\n",
    "features = df[['Sales', 'Discount', 'Quantity']].fillna(0)\n",
    "labels = df['Label']\n",
    "\n",
    "X_train, X_test, y_train, y_test = train_test_split(features, labels, test_size=0.3, random_state=42)\n",
    "model = GaussianNB()\n",
    "model.fit(X_train, y_train)\n",
    "y_pred = model.predict(X_test)\n",
    "\n",
    "print(\"Classification Report:\\n\", classification_report(y_test, y_pred))\n",
    "print(\"Confusion Matrix:\\n\", confusion_matrix(y_test, y_pred))"
   ]
  },
  {
   "cell_type": "code",
   "execution_count": 35,
   "id": "43c81401",
   "metadata": {},
   "outputs": [
    {
     "name": "stdout",
     "output_type": "stream",
     "text": [
      "Classification Report:\n",
      "               precision    recall  f1-score   support\n",
      "\n",
      "           0       0.97      0.67      0.80       547\n",
      "           1       0.93      1.00      0.96      2452\n",
      "\n",
      "    accuracy                           0.94      2999\n",
      "   macro avg       0.95      0.83      0.88      2999\n",
      "weighted avg       0.94      0.94      0.93      2999\n",
      "\n",
      "Confusion Matrix:\n",
      " [[ 368  179]\n",
      " [  10 2442]]\n"
     ]
    }
   ],
   "source": [
    "df['Label'] = df['Profit'].apply(lambda x: 1 if x > 0 else 0)\n",
    "features = df[['Sales', 'Discount', 'Quantity']].fillna(0)\n",
    "labels = df['Label']\n",
    "\n",
    "X_train, X_test, y_train, y_test = train_test_split(features, labels, test_size=0.3, random_state=42)\n",
    "model = LogisticRegression(max_iter=1000)\n",
    "model.fit(X_train, y_train)\n",
    "y_pred = model.predict(X_test)\n",
    "\n",
    "print(\"Classification Report:\\n\", classification_report(y_test, y_pred))\n",
    "print(\"Confusion Matrix:\\n\", confusion_matrix(y_test, y_pred))"
   ]
  },
  {
   "cell_type": "code",
   "execution_count": 36,
   "id": "8ef7b89e",
   "metadata": {},
   "outputs": [
    {
     "name": "stdout",
     "output_type": "stream",
     "text": [
      "Classification Report:\n",
      "               precision    recall  f1-score   support\n",
      "\n",
      "           0       0.84      0.81      0.82       547\n",
      "           1       0.96      0.97      0.96      2452\n",
      "\n",
      "    accuracy                           0.94      2999\n",
      "   macro avg       0.90      0.89      0.89      2999\n",
      "weighted avg       0.94      0.94      0.94      2999\n",
      "\n",
      "Confusion Matrix:\n",
      " [[ 443  104]\n",
      " [  85 2367]]\n"
     ]
    }
   ],
   "source": [
    "\n",
    "df['Label'] = df['Profit'].apply(lambda x: 1 if x > 0 else 0)\n",
    "features = df[['Sales', 'Discount', 'Quantity']].fillna(0)\n",
    "labels = df['Label']\n",
    "\n",
    "X_train, X_test, y_train, y_test = train_test_split(features, labels, test_size=0.3, random_state=42)\n",
    "model = RandomForestClassifier(n_estimators=100)\n",
    "model.fit(X_train, y_train)\n",
    "y_pred = model.predict(X_test)\n",
    "\n",
    "print(\"Classification Report:\\n\", classification_report(y_test, y_pred))\n",
    "print(\"Confusion Matrix:\\n\", confusion_matrix(y_test, y_pred))"
   ]
  },
  {
   "cell_type": "code",
   "execution_count": 37,
   "id": "b9ba5a61",
   "metadata": {},
   "outputs": [
    {
     "name": "stdout",
     "output_type": "stream",
     "text": [
      "Classification Report:\n",
      "               precision    recall  f1-score   support\n",
      "\n",
      "           0       1.00      0.48      0.65       547\n",
      "           1       0.90      1.00      0.95      2452\n",
      "\n",
      "    accuracy                           0.91      2999\n",
      "   macro avg       0.95      0.74      0.80      2999\n",
      "weighted avg       0.92      0.91      0.89      2999\n",
      "\n",
      "Confusion Matrix:\n",
      " [[ 263  284]\n",
      " [   0 2452]]\n"
     ]
    }
   ],
   "source": [
    "\n",
    "df['Label'] = df['Profit'].apply(lambda x: 1 if x > 0 else 0)\n",
    "features = df[['Sales', 'Discount', 'Quantity']].fillna(0)\n",
    "labels = df['Label']\n",
    "\n",
    "X_train, X_test, y_train, y_test = train_test_split(features, labels, test_size=0.3, random_state=42)\n",
    "model = MLPClassifier(hidden_layer_sizes=(50,25), max_iter=1000)\n",
    "model.fit(X_train, y_train)\n",
    "y_pred = model.predict(X_test)\n",
    "\n",
    "print(\"Classification Report:\\n\", classification_report(y_test, y_pred))\n",
    "print(\"Confusion Matrix:\\n\", confusion_matrix(y_test, y_pred))"
   ]
  },
  {
   "cell_type": "markdown",
   "id": "c6ba2b87",
   "metadata": {},
   "source": [
    "# **PENJELASAN**\n",
    "\n",
    "Model klasifikasi ini dibuat untuk memprediksi apakah suatu transaksi menghasilkan keuntungan (label: 1) atau mengalami kerugian (label: 0). Model yang digunakan adalah Decision Tree, dan performanya diukur dengan Classification Report dan Confusion Matrix.\n",
    "\n",
    "1. Precision\n",
    "(Ukuran seberapa tepat prediksi kelas itu.)\n",
    "\n",
    "Precision kelas 0 (rugi): 0.82\n",
    "→ Dari seluruh prediksi \"rugi\", 82% benar-benar rugi.\n",
    "\n",
    "Precision kelas 1 (untung): 0.96\n",
    "→ Dari seluruh prediksi \"untung\", 96% benar-benar untung.\n",
    "\n",
    "2. Recall\n",
    "(Ukuran seberapa banyak kasus aktual yang berhasil ditemukan.)\n",
    "\n",
    "Recall kelas 0 (rugi): 0.81\n",
    "→ Dari semua transaksi yang sebenarnya rugi, 81% berhasil terdeteksi.\n",
    "\n",
    "Recall kelas 1 (untung): 0.96\n",
    "→ Dari semua transaksi yang sebenarnya untung, 96% berhasil dikenali.\n",
    "\n",
    "3. F1-Score\n",
    "Kombinasi precision dan recall (semakin mendekati 1 semakin baik).\n",
    "\n",
    "F1 untuk kelas 0: 0.81, kelas 1: 0.96 → artinya model lebih kuat dalam memprediksi keuntungan.\n",
    "\n",
    "4. Support\n",
    "Jumlah data sebenarnya untuk tiap kelas.\n",
    "\n",
    "Rugi: 547, Untung: 2452 (berarti data tidak seimbang, lebih banyak transaksi untung).\n",
    "\n",
    "Accuracy (akurasi keseluruhan): 93% dari semua prediksi benar.\n",
    "\n",
    "Macro avg: rata-rata precision, recall, f1 tanpa mempertimbangkan jumlah data tiap kelas (berimbang).\n",
    "\n",
    "Weighted avg: rata-rata dengan memperhitungkan banyaknya data per kelas (lebih representatif)."
   ]
  },
  {
   "cell_type": "markdown",
   "id": "ef2299c7",
   "metadata": {},
   "source": [
    "Model klasifikasi ini dibuat untuk memprediksi apakah suatu transaksi menghasilkan keuntungan (label: 1) atau mengalami kerugian (label: 0). Model yang digunakan adalah naive bayes, dan performanya diukur dengan Classification Report dan Confusion Matrix.\n",
    "\n",
    "1. Precision\n",
    "(Ukuran seberapa tepat prediksi kelas itu.)\n",
    "\n",
    "Precision kelas 0 (rugi): 0.98\n",
    "→ Dari seluruh prediksi \"rugi\", 98% benar-benar rugi.\n",
    "\n",
    "Precision kelas 1 (untung): 0.93\n",
    "→ Dari seluruh prediksi \"untung\", 93% benar-benar untung.\n",
    "\n",
    "2. Recall\n",
    "(Ukuran seberapa banyak kasus aktual yang berhasil ditemukan.)\n",
    "\n",
    "Recall kelas 0 (rugi): 0.66\n",
    "→ Dari semua transaksi yang sebenarnya rugi, 66% berhasil terdeteksi.\n",
    "\n",
    "Recall kelas 1 (untung): 1.00\n",
    "→ Dari semua transaksi yang sebenarnya untung 100% berhasil dikenali.\n",
    "\n",
    "3. F1-Score\n",
    "Kombinasi precision dan recall (semakin mendekati 1 semakin baik).\n",
    "\n",
    "F1 untuk kelas 0: 0.79, kelas 1: 0.96 → artinya model lebih kuat dalam memprediksi keuntungan.\n",
    "\n",
    "4. Support\n",
    "Jumlah data sebenarnya untuk tiap kelas.\n",
    "\n",
    "Rugi: 547, Untung: 2452 (berarti data tidak seimbang, lebih banyak transaksi untung).\n",
    "\n",
    "Accuracy (akurasi keseluruhan): 93% dari semua prediksi benar."
   ]
  },
  {
   "cell_type": "markdown",
   "id": "ba1085a6",
   "metadata": {},
   "source": [
    "Model klasifikasi ini dibuat untuk memprediksi apakah suatu transaksi menghasilkan keuntungan (label: 1) atau mengalami kerugian (label: 0). Model yang digunakan adalah LOGISTIC REGRESSION, dan performanya diukur dengan Classification Report dan Confusion Matrix.\n",
    "\n",
    "1. Precision\n",
    "(Ukuran seberapa tepat prediksi kelas itu.)\n",
    "\n",
    "Precision kelas 0 (rugi): 0.97\n",
    "→ Dari seluruh prediksi \"rugi\", 97% benar-benar rugi.\n",
    "\n",
    "Precision kelas 1 (untung): 0.93\n",
    "→ Dari seluruh prediksi \"untung\", 93% benar-benar untung.\n",
    "\n",
    "2. Recall\n",
    "(Ukuran seberapa banyak kasus aktual yang berhasil ditemukan.)\n",
    "\n",
    "Recall kelas 0 (rugi): 0.67\n",
    "→ Dari semua transaksi yang sebenarnya rugi, 67% berhasil terdeteksi.\n",
    "\n",
    "Recall kelas 1 (untung): 1.00\n",
    "→ Dari semua transaksi yang sebenarnya untung 100% berhasil dikenali.\n",
    "\n",
    "3. F1-Score\n",
    "Kombinasi precision dan recall (semakin mendekati 1 semakin baik).\n",
    "\n",
    "F1 untuk kelas 0: 0.80, kelas 1: 0.96 → artinya model lebih kuat dalam memprediksi keuntungan.\n",
    "\n",
    "4. Support\n",
    "Jumlah data sebenarnya untuk tiap kelas.\n",
    "\n",
    "Rugi: 547, Untung: 2452 (berarti data tidak seimbang, lebih banyak transaksi untung).\n",
    "\n",
    "Accuracy (akurasi keseluruhan): 94% dari semua prediksi benar."
   ]
  },
  {
   "cell_type": "markdown",
   "id": "a55acdb1",
   "metadata": {},
   "source": [
    "Model klasifikasi ini dibuat untuk memprediksi apakah suatu transaksi menghasilkan keuntungan (label: 1) atau mengalami kerugian (label: 0). Model yang digunakan adalah RANDOM FOREST, dan performanya diukur dengan Classification Report dan Confusion Matrix.\n",
    "\n",
    "1. Precision\n",
    "(Ukuran seberapa tepat prediksi kelas itu.)\n",
    "\n",
    "Precision kelas 0 (rugi): 0.84\n",
    "→ Dari seluruh prediksi \"rugi\", 84% benar-benar rugi.\n",
    "\n",
    "Precision kelas 1 (untung): 0.96\n",
    "→ Dari seluruh prediksi \"untung\", 96% benar-benar untung.\n",
    "\n",
    "2. Recall\n",
    "(Ukuran seberapa banyak kasus aktual yang berhasil ditemukan.)\n",
    "\n",
    "Recall kelas 0 (rugi): 0.81\n",
    "→ Dari semua transaksi yang sebenarnya rugi, 81% berhasil terdeteksi.\n",
    "\n",
    "Recall kelas 1 (untung): 0.97\n",
    "→ Dari semua transaksi yang sebenarnya untung 97% berhasil dikenali.\n",
    "\n",
    "3. F1-Score\n",
    "Kombinasi precision dan recall (semakin mendekati 1 semakin baik).\n",
    "\n",
    "F1 untuk kelas 0: 0.82, kelas 1: 0.96 → artinya model lebih kuat dalam memprediksi keuntungan.\n",
    "\n",
    "4. Support\n",
    "Jumlah data sebenarnya untuk tiap kelas.\n",
    "\n",
    "Rugi: 547, Untung: 2452 (berarti data tidak seimbang, lebih banyak transaksi untung).\n",
    "\n",
    "Accuracy (akurasi keseluruhan): 94% dari semua prediksi benar."
   ]
  },
  {
   "cell_type": "markdown",
   "id": "dbde208e",
   "metadata": {},
   "source": [
    "Model klasifikasi ini dibuat untuk memprediksi apakah suatu transaksi menghasilkan keuntungan (label: 1) atau mengalami kerugian (label: 0). Model yang digunakan adalah  ANN, dan performanya diukur dengan Classification Report dan Confusion Matrix.\n",
    "\n",
    "1. Precision\n",
    "(Ukuran seberapa tepat prediksi kelas itu.)\n",
    "\n",
    "Precision kelas 0 (rugi): 1.00\n",
    "→ Dari seluruh prediksi \"rugi\", 100% benar-benar rugi.\n",
    "\n",
    "Precision kelas 1 (untung): 0.90\n",
    "→ Dari seluruh prediksi \"untung\", 90% benar-benar untung.\n",
    "\n",
    "2. Recall\n",
    "(Ukuran seberapa banyak kasus aktual yang berhasil ditemukan.)\n",
    "\n",
    "Recall kelas 0 (rugi): 0.48\n",
    "→ Dari semua transaksi yang sebenarnya rugi, 48% berhasil terdeteksi.\n",
    "\n",
    "Recall kelas 1 (untung): 1.00\n",
    "→ Dari semua transaksi yang sebenarnya untung 100% berhasil dikenali.\n",
    "\n",
    "3. F1-Score\n",
    "Kombinasi precision dan recall (semakin mendekati 1 semakin baik).\n",
    "\n",
    "F1 untuk kelas 0: 0.65, kelas 1: 0.95 → artinya model lebih kuat dalam memprediksi keuntungan.\n",
    "\n",
    "4. Support\n",
    "Jumlah data sebenarnya untuk tiap kelas.\n",
    "\n",
    "Rugi: 547, Untung: 2452 (berarti data tidak seimbang, lebih banyak transaksi untung).\n",
    "\n",
    "Accuracy (akurasi keseluruhan): 91% dari semua prediksi benar."
   ]
  },
  {
   "cell_type": "markdown",
   "id": "663e582a",
   "metadata": {},
   "source": [
    "Berdasarkan analisis perbandingan lima model klasifikasi (Decision Tree, Naive Bayes, Logistic Regression, Random Forest, dan ANN) untuk memprediksi transaksi menguntungkan atau merugi, dapat disimpulkan bahwa Random Forest menunjukkan performa terbaik secara keseluruhan dengan akurasi 94% dan keseimbangan yang baik antara precision dan recall pada kedua kelas. Logistic Regression juga mencapai akurasi 94% namun dengan recall lebih rendah (67%) untuk kelas rugi. Naive Bayes memiliki precision tertinggi untuk kelas rugi (98%) tetapi recall hanya 66%. Decision Tree menunjukkan keseimbangan yang baik dengan F1-score 0.81 (rugi) dan 0.96 (untung). Sementara ANN memiliki precision sempurna (100%) untuk kelas rugi namun recall terendah (48%), menunjukkan model ini sangat selektif tetapi sering melewatkan transaksi rugi. Semua model menunjukkan performa lebih baik untuk kelas untung, yang mencerminkan ketidakseimbangan dataset (2452 untung vs 547 rugi), dengan confusion matrix mengkonfirmasi kecenderungan model untuk memprediksi kelas mayoritas."
   ]
  }
 ],
 "metadata": {
  "kernelspec": {
   "display_name": "Python 3",
   "language": "python",
   "name": "python3"
  },
  "language_info": {
   "codemirror_mode": {
    "name": "ipython",
    "version": 3
   },
   "file_extension": ".py",
   "mimetype": "text/x-python",
   "name": "python",
   "nbconvert_exporter": "python",
   "pygments_lexer": "ipython3",
   "version": "3.12.1"
  }
 },
 "nbformat": 4,
 "nbformat_minor": 5
}
